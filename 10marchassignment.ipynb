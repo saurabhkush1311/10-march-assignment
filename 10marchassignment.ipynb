{
 "cells": [
  {
   "cell_type": "markdown",
   "id": "2445383b-61be-4439-8973-3a14d9059ccd",
   "metadata": {},
   "source": [
    "Q1: What is Estimation Statistics? Explain point estimate and interval estimate."
   ]
  },
  {
   "cell_type": "markdown",
   "id": "84b53a53-ddcc-4624-aeae-be8534797318",
   "metadata": {},
   "source": [
    "Answer:  estimation statistics involves making educated guesses about population parameters using sample data. Point estimates provide single-value approximations, while interval estimates (confidence intervals) provide a range of values with a certain level of confidence. The choice between point and interval estimates depends on the context and the level of certainty desired in the estimation."
   ]
  },
  {
   "cell_type": "markdown",
   "id": "b9e8ca22-bfba-4280-b33b-d389437f2327",
   "metadata": {},
   "source": [
    "Q2: Write a Python function to estimate the population mean using a sample mean and standard\n",
    "deviation."
   ]
  },
  {
   "cell_type": "code",
   "execution_count": 1,
   "id": "d48542be-00c8-44d6-ab9d-62858fd175f7",
   "metadata": {},
   "outputs": [],
   "source": [
    "#Answer:\n",
    "\n",
    "def est_population_mean(sample_mean , sample_std , sample_size):\n",
    "    return sample_mean"
   ]
  },
  {
   "cell_type": "code",
   "execution_count": 2,
   "id": "2f419efc-0ad9-492e-aff9-f99dc998c61c",
   "metadata": {},
   "outputs": [
    {
     "data": {
      "text/plain": [
       "50.2"
      ]
     },
     "execution_count": 2,
     "metadata": {},
     "output_type": "execute_result"
    }
   ],
   "source": [
    "est_population_mean(50.2,10.7,100)"
   ]
  },
  {
   "cell_type": "markdown",
   "id": "fe2e008b-f30b-47c6-affb-91e7766ab891",
   "metadata": {},
   "source": [
    "Q3: What is Hypothesis testing? Why is it used? State the importance of Hypothesis testing."
   ]
  },
  {
   "cell_type": "markdown",
   "id": "bd26e970-b700-47cf-8f3c-15d12279fad7",
   "metadata": {},
   "source": [
    "Answer:\n",
    "    \n",
    "\n",
    "Hypothesis testing is a statistical method used to make inferences about population parameters based on sample data. It involves formulating two competing hypotheses about a population characteristic, such as the population mean or proportion, and then using sample data to assess which hypothesis is more plausible. The two hypotheses are known as the null hypothesis (H0) and the alternative hypothesis (Ha).\n",
    "\n",
    "The null hypothesis (H0) typically represents a default or \"no effect\" assumption, stating that there is no significant difference or relationship between variables or that any observed difference is due to random chance. The alternative hypothesis (Ha), on the other hand, represents the claim we are trying to test or the possibility of an effect or relationship between variables.\n",
    "\n",
    "The hypothesis testing process involves the following steps:\n",
    "\n",
    "Formulation of Hypotheses: Define the null hypothesis (H0) and the alternative hypothesis (Ha) based on the research question or claim.\n",
    "\n",
    "Collect Data: Obtain a sample from the population of interest.\n",
    "\n",
    "Test Statistic: Calculate a test statistic based on the sample data and the chosen statistical test.\n",
    "\n",
    "Significance Level: Choose a significance level (alpha), which represents the probability of rejecting the null hypothesis when it is true. Commonly used significance levels are 0.05 (5%) and 0.01 (1%).\n",
    "\n",
    "Decision Rule: Compare the calculated test statistic with the critical value or p-value associated with the chosen significance level to decide whether to reject or fail to reject the null hypothesis.\n",
    "\n",
    "Conclusion: Based on the decision rule, make a conclusion about the null hypothesis and interpret the results in the context of the research question.\n",
    "\n",
    "\n",
    "Importance of Hypothesis Testing : hypothesis testing plays a crucial role in the scientific method, allowing researchers to draw meaningful conclusions from sample data and make informed decisions based on statistical evidence."
   ]
  },
  {
   "cell_type": "code",
   "execution_count": null,
   "id": "e013e259-799a-46fb-a687-01974807b138",
   "metadata": {},
   "outputs": [],
   "source": []
  },
  {
   "cell_type": "markdown",
   "id": "606f7610-bf46-4a6a-a09c-fafb6ae80230",
   "metadata": {},
   "source": [
    "Q4. Create a hypothesis that states whether the average weight of male college students is greater than\n",
    "the average weight of female college students."
   ]
  },
  {
   "cell_type": "markdown",
   "id": "bb1244bc-1e55-438f-b7ca-5872c2bbac54",
   "metadata": {},
   "source": [
    "Answer:\n",
    "    \n",
    "Null Hypothesis (H0):The average weight of male college students is greater than the average weight of female college students.\n",
    "\n",
    "Alternative Hypothesis (Ha): The average weight of male college students is equal to or less than the average weight of female college students."
   ]
  },
  {
   "cell_type": "code",
   "execution_count": null,
   "id": "efe925fd-63c4-48cf-b3fc-ae2a34a8482e",
   "metadata": {},
   "outputs": [],
   "source": []
  },
  {
   "cell_type": "markdown",
   "id": "77771a92-56f1-4d59-94c4-c0969989577a",
   "metadata": {},
   "source": [
    "Q5. Write a Python script to conduct a hypothesis test on the difference between two population means,\n",
    "given a sample from each population."
   ]
  },
  {
   "cell_type": "code",
   "execution_count": 4,
   "id": "07cb9884-382d-49aa-ab36-ccc1b7f6647c",
   "metadata": {},
   "outputs": [],
   "source": [
    "#Answer:\n",
    "\n",
    "import numpy as np\n",
    "from scipy.stats import ttest_ind\n",
    "\n",
    "def two_sample_ttest(sample1,sample2,alpha=0.05):\n",
    "    t_stat,p_value = ttest_ind(sample1,sample2)\n",
    "    \n",
    "    print(\"t-stats\",t_stat)\n",
    "    print(\"p_value\",p_value)\n",
    "    \n",
    "    if p_value < alpha:\n",
    "        print(\"Reject the null hypothesis: There is significant evidence to support the difference between the means.\")\n",
    "    else:\n",
    "        print(\"Fail to reject the null hypothesis: There is no significant evidence to support the difference between the means.\")\n"
   ]
  },
  {
   "cell_type": "code",
   "execution_count": 5,
   "id": "dd6cac7b-9634-413e-9637-9ca2cbb522ef",
   "metadata": {},
   "outputs": [],
   "source": [
    "sample1 = np.array([67, 71, 63, 75, 68])\n",
    "sample2 = np.array([60, 65, 62, 70, 58])"
   ]
  },
  {
   "cell_type": "code",
   "execution_count": 8,
   "id": "7d20744c-d079-44b9-80bf-ed92883b8c4d",
   "metadata": {},
   "outputs": [
    {
     "name": "stdout",
     "output_type": "stream",
     "text": [
      "t-stats 1.9964423333823902\n",
      "p_value 0.08096119362496995\n",
      "Fail to reject the null hypothesis: There is no significant evidence to support the difference between the means.\n"
     ]
    }
   ],
   "source": [
    "two_sample_ttest(sample1, sample2, alpha=0.05)"
   ]
  },
  {
   "cell_type": "code",
   "execution_count": null,
   "id": "956cfa6f-5070-45bf-a7c4-27445304ec6b",
   "metadata": {},
   "outputs": [],
   "source": []
  },
  {
   "cell_type": "markdown",
   "id": "20896ab9-4fb3-4730-acd3-3fb27afa9cc2",
   "metadata": {},
   "source": [
    "Q6: What is a null and alternative hypothesis? Give some examples."
   ]
  },
  {
   "cell_type": "markdown",
   "id": "3ac26de0-ca40-43cc-afc8-81a915bc4023",
   "metadata": {},
   "source": [
    "Answer:\n",
    "    \n",
    "In statistical hypothesis testing, the null hypothesis (H0) and the alternative hypothesis (Ha) are two competing statements about a population characteristic that are tested using sample data. These hypotheses help to make inferences and draw conclusions about the population based on the available evidence.\n",
    "\n",
    "Null Hypothesis (H0):\n",
    "The null hypothesis is the default assumption or the statement of no effect or no difference. It suggests that any observed difference or relationship between variables is due to random chance or sampling error. In other words, it states that there is no significant effect, change, or relationship in the population being studied.\n",
    "Example 1: A researcher wants to test whether a new drug has any effect on reducing blood pressure. The null hypothesis would be that the new drug has no effect on blood pressure in the population.\n",
    "\n",
    "Example 2: A company claims that their new marketing campaign increased the average sales of their product. The null hypothesis would state that the marketing campaign had no effect on average sales.\n",
    "\n",
    "Alternative Hypothesis (Ha):\n",
    "The alternative hypothesis is the statement that contradicts the null hypothesis. It represents the claim or assertion that the researcher is interested in testing and trying to find evidence for. It suggests that there is a significant effect, change, or relationship in the population being studied.\n",
    "Example 1: The alternative hypothesis for the drug study would state that the new drug has a significant effect on reducing blood pressure in the population.\n",
    "\n",
    "Example 2: The alternative hypothesis for the marketing campaign would state that the marketing campaign has a significant effect on average sales, increasing them compared to before the campaign."
   ]
  },
  {
   "cell_type": "code",
   "execution_count": null,
   "id": "3f52b587-bf2a-4b4b-b2c9-49a6c4c84982",
   "metadata": {},
   "outputs": [],
   "source": []
  },
  {
   "cell_type": "markdown",
   "id": "891fadee-d2c9-4bd4-9610-22e379a8ee31",
   "metadata": {},
   "source": [
    "Q7: Write down the steps involved in hypothesis testing."
   ]
  },
  {
   "cell_type": "markdown",
   "id": "209fa1e5-3dcd-4c86-8cdc-10f787dbde94",
   "metadata": {},
   "source": [
    "Answer:\n",
    "    \n",
    "\n",
    "Hypothesis testing involves a series of steps to assess the evidence and draw conclusions about a population parameter based on sample data. Here are the steps involved in hypothesis testing:\n",
    "\n",
    "Formulate the Hypotheses:\n",
    "Start by clearly stating the null hypothesis (H0) and the alternative hypothesis (Ha). The null hypothesis typically represents the default assumption or no effect/difference, while the alternative hypothesis represents the claim you want to test.\n",
    "\n",
    "Choose the Significance Level (alpha):\n",
    "Select a significance level (alpha), which is the probability of rejecting the null hypothesis when it is true. Commonly used values for alpha are 0.05 (5%) and 0.01 (1%).\n",
    "\n",
    "Select the Test Statistic:\n",
    "Choose an appropriate test statistic based on the nature of your data and the hypothesis being tested. For example, if you are comparing means between two groups, you might use a t-test.\n",
    "\n",
    "Collect and Analyze Data:\n",
    "Collect data from a representative sample. Calculate the test statistic using the sample data and the chosen statistical test.\n",
    "\n",
    "Determine the Critical Region (Rejection Region):\n",
    "Identify the critical region, which corresponds to extreme values of the test statistic that would lead to the rejection of the null hypothesis. The critical region is determined based on the significance level and the distribution of the test statistic.\n",
    "\n",
    "Calculate the P-value:\n",
    "Compute the p-value, which is the probability of obtaining a test statistic as extreme as the one observed, assuming the null hypothesis is true. The p-value helps determine the strength of the evidence against the null hypothesis.\n",
    "\n",
    "Make a Decision:\n",
    "Compare the calculated test statistic or the p-value with the critical values or the significance level. If the test statistic falls in the critical region or the p-value is less than the significance level, reject the null hypothesis. Otherwise, fail to reject the null hypothesis.\n",
    "\n",
    "Draw Conclusions:\n",
    "Based on the decision made in the previous step, draw conclusions about the population parameter being tested. If the null hypothesis is rejected, provide evidence to support the alternative hypothesis. If the null hypothesis is not rejected, acknowledge that there is insufficient evidence to support the alternative hypothesis.\n",
    "\n",
    "Report Results:\n",
    "Present the results of the hypothesis test, including the test statistic, the p-value, the decision made, and the conclusions drawn. Be transparent about the assumptions made and the methodology used in the hypothesis testing process."
   ]
  },
  {
   "cell_type": "code",
   "execution_count": null,
   "id": "506ef854-7412-49d6-991b-2f06fa365e08",
   "metadata": {},
   "outputs": [],
   "source": []
  },
  {
   "cell_type": "markdown",
   "id": "5b5289ed-79b9-4795-acbc-00c99b3ba34d",
   "metadata": {},
   "source": [
    "Q8. Define p-value and explain its significance in hypothesis testing."
   ]
  },
  {
   "cell_type": "markdown",
   "id": "daddaac4-cf2f-4a8f-873a-d6ec50dd13dc",
   "metadata": {},
   "source": [
    "Answer:\n",
    "    \n",
    "The p-value (probability value) is a fundamental concept in hypothesis testing and represents the probability of obtaining the observed results (or more extreme results) under the assumption that the null hypothesis is true. In other words, it quantifies the strength of evidence against the null hypothesis based on the sample data.\n",
    "\n",
    "In hypothesis testing, the p-value helps in making decisions about whether to reject or fail to reject the null hypothesis. Here's how the p-value is interpreted:\n",
    "\n",
    "Small p-value (p < alpha): If the calculated p-value is less than the chosen significance level (alpha), it means that the observed results are highly unlikely to have occurred by chance if the null hypothesis were true. In this case, there is strong evidence against the null hypothesis, and we reject it in favor of the alternative hypothesis.\n",
    "\n",
    "Large p-value (p >= alpha): If the calculated p-value is greater than or equal to the significance level (alpha), it means that the observed results are reasonably likely to have occurred by chance under the assumption of the null hypothesis. In this case, there is insufficient evidence to reject the null hypothesis, and we fail to reject it."
   ]
  },
  {
   "cell_type": "code",
   "execution_count": null,
   "id": "f97a327f-22a1-4ec9-8524-3b3350d223fd",
   "metadata": {},
   "outputs": [],
   "source": []
  },
  {
   "cell_type": "markdown",
   "id": "6289d1bf-166c-488f-a2f3-ff256f21eda3",
   "metadata": {},
   "source": [
    "Q9. Generate a Student's t-distribution plot using Python's matplotlib library, with the degrees of freedom\n",
    "parameter set to 10."
   ]
  },
  {
   "cell_type": "code",
   "execution_count": 11,
   "id": "932b21ea-0cf0-4a9b-8d52-4ba631586dbe",
   "metadata": {},
   "outputs": [
    {
     "data": {
      "image/png": "[encoded data removed]",
      "text/plain": [
       "<Figure size 640x480 with 1 Axes>"
      ]
     },
     "metadata": {},
     "output_type": "display_data"
    }
   ],
   "source": [
    "#Answer:\n",
    "\n",
    "import numpy as np\n",
    "import matplotlib.pyplot as plt\n",
    "from scipy.stats import t\n",
    "\n",
    "df = 10\n",
    "\n",
    "x = np.linspace(-4,4,500)\n",
    "y = t.pdf(x,df)\n",
    "\n",
    "plt.plot(x,y,label=f't-distribution (df={df})')\n",
    "plt.xlabel('x')\n",
    "plt.ylabel('Probability Density Function')\n",
    "plt.title(f'Student\\'s t-distribution with {df} degrees of freedom')\n",
    "plt.legend()\n",
    "plt.grid(True)\n",
    "plt.show()"
   ]
  },
  {
   "cell_type": "code",
   "execution_count": null,
   "id": "d0edde38-ed8d-4051-92e1-9dfd52b22819",
   "metadata": {},
   "outputs": [],
   "source": []
  },
  {
   "cell_type": "markdown",
   "id": "979828e6-9768-4d17-a789-beaff3d2daf3",
   "metadata": {},
   "source": [
    "Q10. Write a Python program to calculate the two-sample t-test for independent samples, given two\n",
    "random samples of equal size and a null hypothesis that the population means are equal."
   ]
  },
  {
   "cell_type": "code",
   "execution_count": 19,
   "id": "a053ea10-b2bc-4650-8ba5-e54e395f255c",
   "metadata": {},
   "outputs": [],
   "source": [
    "#Answer:\n",
    "\n",
    "import numpy as np\n",
    "from scipy.stats import ttest_ind\n",
    "\n",
    "def test(sample1,sample2):\n",
    "    t_stat,p_val = ttest_ind(sample1,sample2)\n",
    "    print(\"Two-Sample T-Test Results:\")\n",
    "    print(\"t-statistic:\", t_stat)\n",
    "    print(\"p-value:\", p_val)\n",
    "\n",
    "    alpha = 0.05  # Set the significance level (default is 0.05)\n",
    "    if p_val < alpha:\n",
    "        print(\"Reject the null hypothesis: The population means are significantly different.\")\n",
    "    else:\n",
    "        print(\"Fail to reject the null hypothesis: There is no significant difference in the population means.\")"
   ]
  },
  {
   "cell_type": "code",
   "execution_count": 20,
   "id": "46676e0b-9257-4a93-8426-b9c8a6c67e05",
   "metadata": {},
   "outputs": [],
   "source": [
    "s1 = np.array([10,20,30,40])\n",
    "s2 = np.array([11,22,33,44])"
   ]
  },
  {
   "cell_type": "code",
   "execution_count": 21,
   "id": "c7ae60c5-a513-4567-acad-1e510e2dd82c",
   "metadata": {},
   "outputs": [
    {
     "name": "stdout",
     "output_type": "stream",
     "text": [
      "Two-Sample T-Test Results:\n",
      "t-statistic: -0.26052505285945304\n",
      "p-value: 0.8031693441630067\n",
      "Fail to reject the null hypothesis: There is no significant difference in the population means.\n"
     ]
    }
   ],
   "source": [
    "test(s1,s2)"
   ]
  },
  {
   "cell_type": "code",
   "execution_count": null,
   "id": "04366839-e667-4015-ad2d-ac2f10a46ed0",
   "metadata": {},
   "outputs": [],
   "source": []
  },
  {
   "cell_type": "markdown",
   "id": "59629487-91b7-4d37-80a5-0b7f7ff7eba7",
   "metadata": {},
   "source": [
    "Q11: What is Student’s t distribution? When to use the t-Distribution."
   ]
  },
  {
   "cell_type": "markdown",
   "id": "e693d120-2e06-412f-acee-43712a733742",
   "metadata": {},
   "source": [
    "Answer:\n",
    "    \n",
    "Student's t-distribution, also known as the t-distribution, is a probability distribution that arises in statistical inference when working with small sample sizes and unknown population standard deviations. It is used for making inferences about the population mean when the sample size is small or when the population standard deviation is unknown.\n",
    "\n",
    "The t-distribution is similar in shape to the standard normal distribution (z-distribution), but it has heavier tails, which means it has more probability in the tails and less probability in the center compared to the standard normal distribution. As the sample size increases, the t-distribution approaches the standard normal distribution.\n",
    "\n",
    "The t-distribution is characterized by its degrees of freedom (df), which is a parameter that determines the shape of the distribution. The degrees of freedom depend on the sample size and play a crucial role in calculating t-statistics and p-values in hypothesis testing.\n",
    "\n",
    "When to use the t-Distribution:\n",
    "The t-distribution is used in the following scenarios:\n",
    "\n",
    "Small Sample Size: When working with small sample sizes (typically n < 30), the t-distribution is preferred over the standard normal distribution for making inferences about the population mean.\n",
    "\n",
    "Unknown Population Standard Deviation: If the population standard deviation is unknown, the t-distribution should be used when estimating the population mean based on the sample mean.\n",
    "\n",
    "Hypothesis Testing: When conducting hypothesis tests involving the population mean (one-sample t-test or two-sample t-test), the t-distribution is used to calculate t-statistics and p-values.\n",
    "\n",
    "Confidence Intervals: When constructing confidence intervals for the population mean with small sample sizes or unknown population standard deviation, the t-distribution is used to account for the uncertainty in the estimation."
   ]
  },
  {
   "cell_type": "code",
   "execution_count": null,
   "id": "e66988c4-c88b-40a9-8ce3-a28b2915f03e",
   "metadata": {},
   "outputs": [],
   "source": []
  },
  {
   "cell_type": "markdown",
   "id": "c2c244ec-cb5f-4777-9713-32401998ded7",
   "metadata": {},
   "source": [
    "Q12: What is t-statistic? State the formula for t-statistic."
   ]
  },
  {
   "cell_type": "markdown",
   "id": "2178d2b9-3926-463f-b90e-c98e4b482adc",
   "metadata": {},
   "source": [
    "Answer:\n",
    "    \n",
    "The t-statistic is a measure used in hypothesis testing to assess whether there is a significant difference between the sample mean and the population mean or between the means of two independent samples. It quantifies how many standard errors the sample mean is away from the hypothesized population mean, taking into account the variability of the data.\n",
    "\n",
    "The formula for the t-statistic depends on the type of hypothesis test being performed:\n",
    "\n",
    "One-Sample t-Test:\n",
    "The one-sample t-test is used to compare the sample mean to a known or hypothesized population mean when the population standard deviation is unknown. The formula for the t-statistic in a one-sample t-test is:\n",
    "t = (sample_mean - hypothesized_mean) / (sample_standard_deviation / sqrt(sample_size))\n",
    "\n",
    "where:\n",
    "\n",
    "sample_mean is the mean of the sample data,\n",
    "hypothesized_mean is the hypothesized population mean,\n",
    "sample_standard_deviation is the standard deviation of the sample data, and\n",
    "sample_size is the size of the sample.\n",
    "Two-Sample t-Test (Independent Samples):\n",
    "The two-sample t-test for independent samples is used to compare the means of two independent samples when the population standard deviations are unknown and assumed to be equal. The formula for the t-statistic in a two-sample t-test is:\n",
    "t = (sample1_mean - sample2_mean) / sqrt((sample1_variance / sample1_size) + (sample2_variance / sample2_size))\n",
    "\n",
    "where:\n",
    "\n",
    "sample1_mean is the mean of the first sample,\n",
    "sample2_mean is the mean of the second sample,\n",
    "sample1_variance is the variance of the first sample,\n",
    "sample2_variance is the variance of the second sample,\n",
    "sample1_size is the size of the first sample, and\n",
    "sample2_size is the size of the second sample."
   ]
  },
  {
   "cell_type": "code",
   "execution_count": null,
   "id": "1ac111a5-cc9d-488e-9d1b-efe747dfa5e0",
   "metadata": {},
   "outputs": [],
   "source": []
  },
  {
   "cell_type": "markdown",
   "id": "6e0d293a-bc97-45e7-a044-6281d52f311f",
   "metadata": {},
   "source": [
    "Q13. A coffee shop owner wants to estimate the average daily revenue for their shop. They take a random\n",
    "sample of 50 days and find the sample mean revenue to be $500 with a standard deviation of $50.\n",
    "Estimate the population mean revenue with a 95% confidence interval."
   ]
  },
  {
   "cell_type": "markdown",
   "id": "5885a145-fb52-4acd-b02f-8a7b70d3970b",
   "metadata": {},
   "source": [
    "Answer:\n",
    "\n",
    "    \n",
    "To estimate the population mean revenue with a 95% confidence interval, we can use the t-distribution since the sample size is relatively small (n = 50) and the population standard deviation is unknown. The formula for calculating the confidence interval for the population mean is:\n",
    "\n",
    "Confidence Interval = sample_mean ± (t_critical * standard_error)\n",
    "\n",
    "Where:\n",
    "\n",
    "sample_mean = $500 (the sample mean revenue)\n",
    "t_critical = the critical value from the t-distribution for a 95% confidence level with (n-1) degrees of freedom.\n",
    "standard_error = sample_standard_deviation / sqrt(n)\n",
    "sample_standard_deviation = $50 (the sample standard deviation)\n",
    "n = 50 (the sample size)\n",
    "First, let's find the critical value (t_critical) from the t-distribution table for a 95% confidence level with 49 degrees of freedom (n-1 = 50 - 1 = 49). For a 95% confidence level, the two-tailed critical value is approximately 2.009.\n",
    "\n",
    "Next, let's calculate the standard error:\n",
    "\n",
    "standard_error = $50 / sqrt(50) ≈ $7.07\n",
    "\n",
    "Now, we can calculate the confidence interval:\n",
    "\n",
    "Confidence Interval = $500 ± (2.009 * $7.07)\n",
    "\n",
    "Lower bound = $500 - $14.21 ≈ $485.79\n",
    "Upper bound = $500 + $14.21 ≈ $514.21\n",
    "\n",
    "So, the 95% confidence interval for the population mean revenue is approximately $485.79 to $514.21. This means that we are 95% confident that the true average daily revenue for the coffee shop falls within this range."
   ]
  },
  {
   "cell_type": "code",
   "execution_count": null,
   "id": "03f386c3-4b02-4832-8a2d-4cdf4222477f",
   "metadata": {},
   "outputs": [],
   "source": []
  },
  {
   "cell_type": "markdown",
   "id": "cad9bf1e-c72c-4fa9-9b3f-a4114fd9f6a2",
   "metadata": {},
   "source": [
    "Q14. A researcher hypothesizes that a new drug will decrease blood pressure by 10 mmHg. They conduct a\n",
    "clinical trial with 100 patients and find that the sample mean decrease in blood pressure is 8 mmHg with a\n",
    "standard deviation of 3 mmHg. Test the hypothesis with a significance level of 0.05."
   ]
  },
  {
   "cell_type": "markdown",
   "id": "f50db168-6f4c-4642-a776-1e94d7013f4b",
   "metadata": {},
   "source": [
    "Answer:\n",
    "    \n",
    "To test the hypothesis that the new drug will decrease blood pressure by 10 mmHg, we can perform a one-sample t-test. The null hypothesis (H0) is that the drug does not decrease blood pressure by 10 mmHg, while the alternative hypothesis (Ha) is that the drug does decrease blood pressure by 10 mmHg.\n",
    "\n",
    "The test statistic for the one-sample t-test is given by:\n",
    "\n",
    "t = (sample_mean - hypothesized_mean) / (sample_standard_deviation / sqrt(sample_size))\n",
    "\n",
    "Where:\n",
    "\n",
    "sample_mean = 8 mmHg (the sample mean decrease in blood pressure)\n",
    "hypothesized_mean = 10 mmHg (the hypothesized decrease in blood pressure)\n",
    "sample_standard_deviation = 3 mmHg (the sample standard deviation)\n",
    "sample_size = 100 (the sample size)\n",
    "Let's calculate the t-value:\n",
    "\n",
    "t = (8 - 10) / (3 / sqrt(100))\n",
    "t = -2 / (3 / 10)\n",
    "t = -2 * (10 / 3)\n",
    "t = -20 / 3\n",
    "t ≈ -6.67 (rounded to two decimal places)\n",
    "\n",
    "Now, we need to find the critical t-value from the t-distribution table for a significance level (alpha) of 0.05 and degrees of freedom (df) of (n - 1), where n is the sample size.\n",
    "\n",
    "df = 100 - 1 = 99\n",
    "\n",
    "The critical t-value for a two-tailed test with a significance level of 0.05 and 99 degrees of freedom is approximately ±1.984. Since we have a two-tailed test, we need to consider both the positive and negative critical t-values.\n",
    "\n",
    "Since the calculated t-value (-6.67) falls outside the critical region of ±1.984, we reject the null hypothesis (H0) in favor of the alternative hypothesis (Ha). This means that there is enough evidence to suggest that the new drug does decrease blood pressure by 10 mmHg.\n",
    "\n",
    "In conclusion, at a significance level of 0.05, the clinical trial provides strong evidence to support the researcher's hypothesis that the new drug decreases blood pressure by 10 mmHg."
   ]
  },
  {
   "cell_type": "code",
   "execution_count": null,
   "id": "1de009c5-f73c-44f3-8288-9e0401ffadd7",
   "metadata": {},
   "outputs": [],
   "source": []
  },
  {
   "cell_type": "markdown",
   "id": "87353f02-ac5b-49ad-bff4-2153e49e10be",
   "metadata": {},
   "source": [
    "Q15. An electronics company produces a certain type of product with a mean weight of 5 pounds and a\n",
    "standard deviation of 0.5 pounds. A random sample of 25 products is taken, and the sample mean weight\n",
    "is found to be 4.8 pounds. Test the hypothesis that the true mean weight of the products is less than 5\n",
    "pounds with a significance level of 0.01."
   ]
  },
  {
   "cell_type": "markdown",
   "id": "3cff4afd-560f-4100-8148-18c0c85af400",
   "metadata": {},
   "source": [
    "Answer:\n",
    "    \n",
    "To test the hypothesis that the true mean weight of the products is less than 5 pounds, we can perform a one-sample t-test. The null hypothesis (H0) is that the true mean weight is equal to 5 pounds, while the alternative hypothesis (Ha) is that the true mean weight is less than 5 pounds.\n",
    "\n",
    "The test statistic for the one-sample t-test is given by:\n",
    "\n",
    "t = (sample_mean - hypothesized_mean) / (sample_standard_deviation / sqrt(sample_size))\n",
    "\n",
    "Where:\n",
    "\n",
    "sample_mean = 4.8 pounds (the sample mean weight)\n",
    "hypothesized_mean = 5 pounds (the hypothesized mean weight)\n",
    "sample_standard_deviation = 0.5 pounds (the sample standard deviation)\n",
    "sample_size = 25 (the sample size)\n",
    "Let's calculate the t-value:\n",
    "\n",
    "t = (4.8 - 5) / (0.5 / sqrt(25))\n",
    "t = -0.2 / (0.5 / 5)\n",
    "t = -0.2 / 0.1\n",
    "t = -2\n",
    "\n",
    "Now, we need to find the critical t-value from the t-distribution table for a one-tailed test (since we are testing if the true mean weight is less than 5 pounds) with a significance level (alpha) of 0.01 and degrees of freedom (df) of (n - 1), where n is the sample size.\n",
    "\n",
    "df = 25 - 1 = 24\n",
    "\n",
    "The critical t-value for a one-tailed test with a significance level of 0.01 and 24 degrees of freedom is approximately -2.492.\n",
    "Since the absolute value of the calculated t-value (-2) is greater than the absolute value of the critical t-value (-2.492), we fail to reject the null hypothesis (H0). This means that there is not enough evidence to suggest that the true mean weight of the products is less than 5 pounds at a significance level of 0.01."
   ]
  },
  {
   "cell_type": "code",
   "execution_count": null,
   "id": "112acfff-7e8b-4226-96cb-2bdbcc5d1dcc",
   "metadata": {},
   "outputs": [],
   "source": []
  },
  {
   "cell_type": "markdown",
   "id": "6fd160f1-e9d4-4fe9-a30d-eeb655c9fbc7",
   "metadata": {},
   "source": [
    "Q16. Two groups of students are given different study materials to prepare for a test. The first group (n1 =\n",
    "30) has a mean score of 80 with a standard deviation of 10, and the second group (n2 = 40) has a mean\n",
    "score of 75 with a standard deviation of 8. Test the hypothesis that the population means for the two\n",
    "groups are equal with a significance level of 0.01."
   ]
  },
  {
   "cell_type": "markdown",
   "id": "589d40bf-a93c-4652-a581-070fe49a4799",
   "metadata": {},
   "source": [
    "Answer:\n",
    "    \n",
    "To test the hypothesis that the population means for the two groups are equal, we can perform a two-sample t-test for independent samples. The null hypothesis (H0) is that the population means are equal, while the alternative hypothesis (Ha) is that the population means are not equal.\n",
    "\n",
    "The formula for the two-sample t-test is given by:\n",
    "\n",
    "t = (sample_mean1 - sample_mean2) / sqrt((sample_standard_deviation1^2 / n1) + (sample_standard_deviation2^2 / n2))\n",
    "\n",
    "Where:\n",
    "\n",
    "sample_mean1 = 80 (the sample mean of the first group)\n",
    "sample_mean2 = 75 (the sample mean of the second group)\n",
    "sample_standard_deviation1 = 10 (the sample standard deviation of the first group)\n",
    "sample_standard_deviation2 = 8 (the sample standard deviation of the second group)\n",
    "n1 = 30 (the sample size of the first group)\n",
    "n2 = 40 (the sample size of the second group)\n",
    "Let's calculate the t-value:\n",
    "\n",
    "t = (80 - 75) / sqrt((10^2 / 30) + (8^2 / 40))\n",
    "t = 5 / sqrt((100 / 30) + (64 / 40))\n",
    "t = 5 / sqrt(3.333 + 1.6)\n",
    "t = 5 / sqrt(4.933)\n",
    "t ≈ 5 / 2.222\n",
    "t ≈ 2.25 (rounded to two decimal places)\n",
    "\n",
    "Next, we need to find the critical t-value from the t-distribution table for a two-tailed test with a significance level (alpha) of 0.01 and degrees of freedom (df) given by:\n",
    "\n",
    "df = (n1 - 1) + (n2 - 1) = (30 - 1) + (40 - 1) = 29 + 39 = 68\n",
    "\n",
    "The critical t-value for a two-tailed test with a significance level of 0.01 and 68 degrees of freedom is approximately ±2.635.\n",
    "\n",
    "Since the calculated t-value (2.25) falls within the range of -2.635 to 2.635, we fail to reject the null hypothesis (H0). This means that there is not enough evidence to suggest that the population means for the two groups are different at a significance level of 0.01.\n",
    "\n",
    "In conclusion, based on the sample data and the two-sample t-test with a significance level of 0.01, we do not have sufficient evidence to support the hypothesis that the population means for the two groups are different."
   ]
  },
  {
   "cell_type": "code",
   "execution_count": null,
   "id": "b871b24d-a965-413d-b24d-1ab8a362a262",
   "metadata": {},
   "outputs": [],
   "source": []
  },
  {
   "cell_type": "markdown",
   "id": "b37074bf-b21b-4a8c-aa2b-9113a3cc4521",
   "metadata": {},
   "source": [
    "Q17. A marketing company wants to estimate the average number of ads watched by viewers during a TV\n",
    "program. They take a random sample of 50 viewers and find that the sample mean is 4 with a standard\n",
    "deviation of 1.5. Estimate the population mean with a 99% confidence interval."
   ]
  },
  {
   "cell_type": "markdown",
   "id": "4e022a26-1603-457f-8870-11e3cd808de4",
   "metadata": {},
   "source": [
    "Answer:\n",
    "    \n",
    "To estimate the population mean number of ads watched by viewers during a TV program with a 99% confidence interval, we can use the t-distribution since the population standard deviation is unknown, and the sample size is relatively small (n = 50).\n",
    "\n",
    "The formula for calculating the confidence interval for the population mean is:\n",
    "\n",
    "Confidence Interval = sample_mean ± (t_critical * standard_error)\n",
    "\n",
    "Where:\n",
    "\n",
    "sample_mean = 4 (the sample mean number of ads watched)\n",
    "t_critical = the critical value from the t-distribution for a 99% confidence level with (n-1) degrees of freedom.\n",
    "standard_error = sample_standard_deviation / sqrt(n)\n",
    "sample_standard_deviation = 1.5 (the sample standard deviation)\n",
    "n = 50 (the sample size)\n",
    "First, let's find the critical value (t_critical) from the t-distribution table for a 99% confidence level with 49 degrees of freedom (n-1 = 50 - 1 = 49). For a 99% confidence level, the two-tailed critical value is approximately 2.678.\n",
    "\n",
    "Next, let's calculate the standard error:\n",
    "\n",
    "standard_error = 1.5 / sqrt(50) ≈ 0.2121\n",
    "\n",
    "Now, we can calculate the confidence interval:\n",
    "\n",
    "Confidence Interval = 4 ± (2.678 * 0.2121)\n",
    "\n",
    "Lower bound = 4 - 0.567 ≈ 3.433\n",
    "Upper bound = 4 + 0.567 ≈ 4.567\n",
    "\n",
    "So, the 99% confidence interval for the population mean number of ads watched by viewers during a TV program is approximately 3.433 to 4.567. This means that we are 99% confident that the true average number of ads watched falls within this range based on the sample data."
   ]
  },
  {
   "cell_type": "code",
   "execution_count": null,
   "id": "f8fcba65-5509-4643-8d58-fc42500b812a",
   "metadata": {},
   "outputs": [],
   "source": []
  }
 ],
 "metadata": {
  "kernelspec": {
   "display_name": "Python 3 (ipykernel)",
   "language": "python",
   "name": "python3"
  },
  "language_info": {
   "codemirror_mode": {
    "name": "ipython",
    "version": 3
   },
   "file_extension": ".py",
   "mimetype": "text/x-python",
   "name": "python",
   "nbconvert_exporter": "python",
   "pygments_lexer": "ipython3",
   "version": "3.10.6"
  }
 },
 "nbformat": 4,
 "nbformat_minor": 5
}
